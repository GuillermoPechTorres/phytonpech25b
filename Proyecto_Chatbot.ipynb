{
  "nbformat": 4,
  "nbformat_minor": 0,
  "metadata": {
    "colab": {
      "provenance": [],
      "authorship_tag": "ABX9TyN+IR8K1GfQjO2fMXY6/3gT",
      "include_colab_link": true
    },
    "kernelspec": {
      "name": "python3",
      "display_name": "Python 3"
    },
    "language_info": {
      "name": "python"
    }
  },
  "cells": [
    {
      "cell_type": "markdown",
      "metadata": {
        "id": "view-in-github",
        "colab_type": "text"
      },
      "source": [
        "<a href=\"https://colab.research.google.com/github/GuillermoPechTorres/phytonpech25b/blob/main/Proyecto_Chatbot.ipynb\" target=\"_parent\"><img src=\"https://colab.research.google.com/assets/colab-badge.svg\" alt=\"Open In Colab\"/></a>"
      ]
    },
    {
      "cell_type": "markdown",
      "source": [
        "# Proyecto ChatBot\n",
        "\n",
        "12 de Octubre de 2025\n",
        "\n",
        " **Guillermo Pech Torres**\n",
        "\n",
        "CUGDL"
      ],
      "metadata": {
        "id": "Y8yyttbE0okc"
      }
    },
    {
      "cell_type": "code",
      "metadata": {
        "colab": {
          "base_uri": "https://localhost:8080/"
        },
        "id": "1d3b050b",
        "outputId": "fffc974a-0946-4908-fede-b31c41893581"
      },
      "source": [
        "nombre_usuario = input(\"Por favor, ingresa tu nombre: \")\n",
        "print(f\"¡Hola, {nombre_usuario}! Bienvenido al ChatBot.\")"
      ],
      "execution_count": 15,
      "outputs": [
        {
          "output_type": "stream",
          "name": "stdout",
          "text": [
            "Por favor, ingresa tu nombre: Memo\n",
            "¡Hola, Memo! Bienvenido al ChatBot.\n"
          ]
        }
      ]
    },
    {
      "cell_type": "code",
      "execution_count": 16,
      "metadata": {
        "colab": {
          "base_uri": "https://localhost:8080/"
        },
        "id": "Hs7ECfqr0dkZ",
        "outputId": "0ff6ec44-110b-44b4-c698-bf34e684a991"
      },
      "outputs": [
        {
          "output_type": "stream",
          "name": "stdout",
          "text": [
            "Hagamos un juego: Imagina un personaje humano. Debes conocer su edad. Me gustaría adivinar la edad de este personaje ficticio, Memo.\n",
            "Para ello, te voy a hacer tres preguntas:\n",
            "¿Cuál es el residuo de la división de su edad entre 3?\n",
            "2\n",
            "¿Cuál es el residuo de la división de su edad entre 5?\n",
            "3\n",
            "¿Cuál es el residuo de la división de su edad entre 7?\n",
            "4\n",
            "Creo que su edad es 53 años. ¡Espero no haberme equivocado!\n"
          ]
        }
      ],
      "source": [
        "def adivinar_edad():\n",
        "    print('Hagamos un juego: Imagina un personaje humano. Debes conocer su edad. Me gustaría adivinar la edad de este personaje ficticio, ' + nombre_usuario + '.')\n",
        "    print('Para ello, te voy a hacer tres preguntas:')\n",
        "\n",
        "    rem3 = int(input('¿Cuál es el residuo de la división de su edad entre 3?\\n'))\n",
        "    rem5 = int(input('¿Cuál es el residuo de la división de su edad entre 5?\\n'))\n",
        "    rem7 = int(input('¿Cuál es el residuo de la división de su edad entre 7?\\n'))\n",
        "    age = (rem3 * 70 + rem5 * 21 + rem7 * 15) % 105\n",
        "\n",
        "    print(\"Creo que su edad es \" + str(age) + \" años. ¡Espero no haberme equivocado!\")\n",
        "\n",
        "adivinar_edad()"
      ]
    },
    {
      "cell_type": "code",
      "source": [
        "\n",
        "def test():\n",
        "    print(\"¿Cuál de las siguientes afirmaciones es correcta sobre la ciudad de Mérida?\")\n",
        "    print('Para responder la pregunta escribe el número de una de las siguientes respuestas:')\n",
        "    print('1. Es la capital del estado de Guanajuato.')\n",
        "    print('2. Es conocida como la \"Perla Tapatía\".')\n",
        "    print('3. Fue fundada en 1921.')\n",
        "    print('4. Está ubicada en la península de Yucatán.')\n",
        "    respuesta = int(input())\n",
        "    while respuesta != 4:\n",
        "        print('Respuesta incorrecta, intente otra vez.')\n",
        "        respuesta = int(input())\n",
        "    print(\"Muy bien, \" + nombre_usuario + \"! Su respuesta fue correcta. Mérida es la mejor ciudad del Mundo, después de Puerto Progreso\")\n",
        "\n",
        "test()"
      ],
      "metadata": {
        "colab": {
          "base_uri": "https://localhost:8080/"
        },
        "id": "ewOHXwEu4ni9",
        "outputId": "a7601b1e-3b4f-405a-93ae-9ffe139d2c17"
      },
      "execution_count": 17,
      "outputs": [
        {
          "output_type": "stream",
          "name": "stdout",
          "text": [
            "¿Cuál de las siguientes afirmaciones es correcta sobre la ciudad de Mérida?\n",
            "Para responder la pregunta escribe el número de una de las siguientes respuestas:\n",
            "1. Es la capital del estado de Guanajuato.\n",
            "2. Es conocida como la \"Perla Tapatía\".\n",
            "3. Fue fundada en 1921.\n",
            "4. Está ubicada en la península de Yucatán.\n",
            "4\n",
            "Muy bien, Memo! Su respuesta fue correcta. Mérida es la mejor ciudad del Mundo, después de Puerto Progreso\n"
          ]
        }
      ]
    },
    {
      "cell_type": "code",
      "source": [
        "\n",
        "print('Hasta la proxima, ' + nombre_usuario + '!')"
      ],
      "metadata": {
        "colab": {
          "base_uri": "https://localhost:8080/"
        },
        "id": "9skEil_W5dOm",
        "outputId": "091aa974-6616-4932-a73f-8a4ad7c5a3ef"
      },
      "execution_count": 18,
      "outputs": [
        {
          "output_type": "stream",
          "name": "stdout",
          "text": [
            "Hasta la proxima, Memo!\n"
          ]
        }
      ]
    }
  ]
}