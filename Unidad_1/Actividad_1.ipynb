{
  "nbformat": 4,
  "nbformat_minor": 0,
  "metadata": {
    "colab": {
      "provenance": [],
      "authorship_tag": "ABX9TyP4VNesZTZf7neBJFbCmxxY",
      "include_colab_link": true
    },
    "kernelspec": {
      "name": "python3",
      "display_name": "Python 3"
    },
    "language_info": {
      "name": "python"
    }
  },
  "cells": [
    {
      "cell_type": "markdown",
      "metadata": {
        "id": "view-in-github",
        "colab_type": "text"
      },
      "source": [
        "<a href=\"https://colab.research.google.com/github/GuillermoPechTorres/phytonpech25b/blob/main/Unidad_1/Actividad_1.ipynb\" target=\"_parent\"><img src=\"https://colab.research.google.com/assets/colab-badge.svg\" alt=\"Open In Colab\"/></a>"
      ]
    },
    {
      "cell_type": "code",
      "source": [],
      "metadata": {
        "id": "16RKeK5gNJ2v"
      },
      "execution_count": null,
      "outputs": []
    },
    {
      "cell_type": "code",
      "execution_count": 10,
      "metadata": {
        "colab": {
          "base_uri": "https://localhost:8080/"
        },
        "id": "vcpQMl7CEp4S",
        "outputId": "1d11b859-d030-410d-c9aa-63f0da18a74a"
      },
      "outputs": [
        {
          "output_type": "stream",
          "name": "stdout",
          "text": [
            "Fecha y hora (UTC): 2025-09-11 00:37\n"
          ]
        }
      ],
      "source": [
        "import datetime\n",
        "\n",
        "#Hora (Tiempo universal coordinaDO, UTC) y fecha\n",
        "now =  datetime.datetime.now()\n",
        "print(f\"Fecha y hora (UTC): {now.strftime('%Y-%m-%d %H:%M')}\")\n",
        "\n"
      ]
    },
    {
      "cell_type": "markdown",
      "source": [
        "# **Actividad 1.**\n",
        "\n",
        "Miércoles 10 de Septiembre de 2025\n",
        "\n",
        "## Análisis y visualización de datos con Python en la nube\n",
        "\n",
        "Guillermo Pech Torres\n",
        "\n",
        "\n",
        "> Centro Universitario de Guadalajara CUGDL\n",
        "\n",
        "\n",
        "**#CienciaCreativaPech**"
      ],
      "metadata": {
        "id": "iRy76bVeHc8w"
      }
    },
    {
      "cell_type": "markdown",
      "source": [
        "PRegunta\n",
        "\n",
        "---\n",
        "\n"
      ],
      "metadata": {
        "id": "-i9At9-7RifX"
      }
    },
    {
      "cell_type": "code",
      "source": [
        "import sys\n",
        "#versión de phyton\n",
        "print(f\"versión de phyton: {sys.version}\")"
      ],
      "metadata": {
        "colab": {
          "base_uri": "https://localhost:8080/"
        },
        "id": "wm4xF-2rHWP4",
        "outputId": "2aaa5687-bcab-45e8-e78b-2f00ccddeff5"
      },
      "execution_count": 12,
      "outputs": [
        {
          "output_type": "stream",
          "name": "stdout",
          "text": [
            "versión de phyton: 3.12.11 (main, Jun  4 2025, 08:56:18) [GCC 11.4.0]\n"
          ]
        }
      ]
    },
    {
      "cell_type": "code",
      "source": [
        "import platform\n",
        "#parámetros del entorno de ejecución (ejemplo con algunas variables del entorno)\n",
        "print(\"\\nParámetros del entorno de ejecución:\")\n",
        "print(f\"Sistema Operartivo: {platform.system()}\")\n",
        "print(f\"Nombre del nodo: {platform.node()}\")\n",
        "print(f\"Arquitectura: {platform.architecture()}\")\n",
        "print(f\"Procesador: {platform.processor()}\")"
      ],
      "metadata": {
        "colab": {
          "base_uri": "https://localhost:8080/"
        },
        "id": "sUpOMYb3HWiE",
        "outputId": "81221d2c-9d17-4212-a2ee-948443c67387"
      },
      "execution_count": 13,
      "outputs": [
        {
          "output_type": "stream",
          "name": "stdout",
          "text": [
            "\n",
            "Parámetros del entorno de ejecución:\n",
            "Sistema Operartivo: Linux\n",
            "Nombre del nodo: 86e8df10026f\n",
            "Arquitectura: ('64bit', 'ELF')\n",
            "Procesador: x86_64\n"
          ]
        }
      ]
    }
  ]
}