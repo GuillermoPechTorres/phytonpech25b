{
  "nbformat": 4,
  "nbformat_minor": 0,
  "metadata": {
    "colab": {
      "provenance": [],
      "authorship_tag": "ABX9TyMa+bSJTATBFEvVlHYWFaiv",
      "include_colab_link": true
    },
    "kernelspec": {
      "name": "python3",
      "display_name": "Python 3"
    },
    "language_info": {
      "name": "python"
    }
  },
  "cells": [
    {
      "cell_type": "markdown",
      "metadata": {
        "id": "view-in-github",
        "colab_type": "text"
      },
      "source": [
        "<a href=\"https://colab.research.google.com/github/GuillermoPechTorres/phytonpech25b/blob/main/Unidad_1/Actividad_2.ipynb\" target=\"_parent\"><img src=\"https://colab.research.google.com/assets/colab-badge.svg\" alt=\"Open In Colab\"/></a>"
      ]
    },
    {
      "cell_type": "markdown",
      "source": [
        "# Actividad 2.  Interaccion con Google\n",
        "\n",
        "*17 de septiembre de 2025*\n",
        "\n",
        "**Curso:** Análisis y Visualización de Datos en la Nube\n",
        "\n",
        "Guillermo Pech Torres\n",
        "\n",
        "Doctorado en Educación CUCSH, CUGDL\n",
        "\n",
        "**#CienciaCreativaPech**"
      ],
      "metadata": {
        "id": "pgN4m_xHDmk6"
      }
    },
    {
      "cell_type": "code",
      "metadata": {
        "colab": {
          "base_uri": "https://localhost:8080/"
        },
        "id": "60880794",
        "outputId": "5b71f735-d9d3-412b-ca2a-7b074ea60528"
      },
      "source": [
        "import datetime\n",
        "now = datetime.datetime.now()\n",
        "print(f\"Fecha y hora (UTC): {now.strftime('%Y-%m-%d %H:%M')}\")\n"
      ],
      "execution_count": 9,
      "outputs": [
        {
          "output_type": "stream",
          "name": "stdout",
          "text": [
            "Fecha y hora (UTC): 2025-09-18 01:06\n"
          ]
        }
      ]
    },
    {
      "cell_type": "code",
      "execution_count": null,
      "metadata": {
        "colab": {
          "base_uri": "https://localhost:8080/"
        },
        "id": "icCcq5HyA0G4",
        "outputId": "3397ca10-7685-409f-e924-bdcc39be3c4d"
      },
      "outputs": [
        {
          "output_type": "stream",
          "name": "stdout",
          "text": [
            "Mounted at /content/drive\n"
          ]
        }
      ],
      "source": [
        "from google.colab import drive\n",
        "drive.mount('/content/drive')"
      ]
    },
    {
      "cell_type": "code",
      "source": [
        "nombre_archivo = \"Mi_ejemplo_de_texto.txt\"\n",
        "ruta = \"/content/drive/MyDrive/Colab Data/\"\n",
        "\n",
        "with open(ruta + nombre_archivo, \"r\") as f: # aquí se nombra a f como la suma de la ruta y el contenido del archivo, en modo lectura \"r\"\n",
        "  d = f.read() # aquí está leyendo f, a lo que llamamos variable d\n",
        "  print(d) # aquí se indica que la variable d, se imprimirá en pantalla"
      ],
      "metadata": {
        "colab": {
          "base_uri": "https://localhost:8080/"
        },
        "id": "TGEFLC3GH25F",
        "outputId": "956326f3-a9e7-40f4-deab-667be21e7857"
      },
      "execution_count": null,
      "outputs": [
        {
          "output_type": "stream",
          "name": "stdout",
          "text": [
            "Mi ejemplo de texto\n",
            "\n",
            "Este archivo es un ejemplo de texto que utilizaré\n",
            "No encontré la opción en mi Mac, pero copie y modifique un texto de cita que me ayudó a la actividad\n",
            "\n",
            "Engeström, Yrjö. (2007). From communities of practice to mycorrhizae. Communities of Practice: Critical Perspectives. 10.4324/NOE0415364737.ch4. \n",
            "\n",
            "#CienciaCreativaPech\n"
          ]
        }
      ]
    }
  ]
}