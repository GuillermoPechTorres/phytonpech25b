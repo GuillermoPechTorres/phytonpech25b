{
  "nbformat": 4,
  "nbformat_minor": 0,
  "metadata": {
    "colab": {
      "provenance": [],
      "authorship_tag": "ABX9TyOUlvu+lGJbp4KkulRrIDS2",
      "include_colab_link": true
    },
    "kernelspec": {
      "name": "python3",
      "display_name": "Python 3"
    },
    "language_info": {
      "name": "python"
    }
  },
  "cells": [
    {
      "cell_type": "markdown",
      "metadata": {
        "id": "view-in-github",
        "colab_type": "text"
      },
      "source": [
        "<a href=\"https://colab.research.google.com/github/GuillermoPechTorres/phytonpech25b/blob/main/Proyecto_Chatbot_Convertidor_Divisas.ipynb\" target=\"_parent\"><img src=\"https://colab.research.google.com/assets/colab-badge.svg\" alt=\"Open In Colab\"/></a>"
      ]
    },
    {
      "cell_type": "markdown",
      "source": [
        "**Proyecto ChatBot: Convertidor de Divisas**\n",
        "\n",
        "## Análisis y visualización de datos con Python en la Nube\n",
        "\n",
        "22 de Octubre de 2025\n",
        "\n",
        "*Guillermo Pech Torres*\n",
        "\n",
        "CUGDL\n",
        "\n",
        "**#CienciaCreativaPech**"
      ],
      "metadata": {
        "id": "9C4UHC17RWr2"
      }
    },
    {
      "cell_type": "code",
      "execution_count": 1,
      "metadata": {
        "id": "SnVRZ3_9PuAG"
      },
      "outputs": [],
      "source": [
        "import json\n",
        "import requests\n",
        "\n",
        "def currency_search(cur):\n",
        "    r = requests.get(\"http://www.floatrates.com/daily/{}.json\".format(cur))\n",
        "    return r.text"
      ]
    },
    {
      "cell_type": "code",
      "source": [
        "print(\"\"\"\n",
        "Bienvenido al convertidor de divisas #CienciaCreativaPech.\n",
        "Introduce el código de tres letras de la divisa inicial (por ejemplo, MXN),\n",
        "código de divisa destino (por ejemplo, USD) y la cantidad que pretendes convertir.\n",
        "El resultado será la cantidad en la divisa destino.\n",
        "Si quieres salir de programa, solo pulsa la tecla Enter al momento de especificar\n",
        "la divisa.\n",
        "¡Suerte en tus conversiones!\n",
        "------------------------------------------------------------------------------\n",
        "\"\"\")\n",
        "\n",
        "exchange_dict = ()\n",
        "my_currency = str(input(\"Divisa inicial: \"))\n",
        "my_currency = my_currency.lower()\n",
        "if my_currency == \"\":\n",
        "  print(\"¡Adios!\")\n",
        "else:\n",
        "  try:\n",
        "    exchange_file = currency_search(my_currency)\n",
        "    exchange_dict = json.loads(exchange_file)\n",
        "    #print(json.dumps(exchange_dict, indent=4))\n",
        "    print(\"Divisa se encontro en la base de datos, podemos trabajar\")\n",
        "  except:\n",
        "    print(\"Divisa no encontrada\")"
      ],
      "metadata": {
        "colab": {
          "base_uri": "https://localhost:8080/"
        },
        "id": "KzpDpZ-YPyKY",
        "outputId": "e5b812f2-44d9-4236-9f04-52cb71052972"
      },
      "execution_count": 3,
      "outputs": [
        {
          "output_type": "stream",
          "name": "stdout",
          "text": [
            "\n",
            "Bienvenido al convertidor de divisas #CienciaCreativaPech.\n",
            "Introduce el código de tres letras de la divisa inicial (por ejemplo, MXN),\n",
            "código de divisa destino (por ejemplo, USD) y la cantidad que pretendes convertir.\n",
            "El resultado será la cantidad en la divisa destino.\n",
            "Si quieres salir de programa, solo pulsa la tecla Enter al momento de especificar\n",
            "la divisa.\n",
            "¡Suerte en tus conversiones!\n",
            "------------------------------------------------------------------------------\n",
            "\n",
            "Divisa inicial: usd\n",
            "Divisa se encontro en la base de datos, podemos trabajar\n"
          ]
        }
      ]
    },
    {
      "cell_type": "code",
      "source": [
        "while exchange_dict:\n",
        "    target = str(input(\"\\n Indique la Divisa destino: \"))\n",
        "    if target == \"\":\n",
        "        print(\"¡Adios!\")\n",
        "        break\n",
        "    target = target.lower()\n",
        "    try:\n",
        "      cambio = exchange_dict[target][\"rate\"]\n",
        "    except:\n",
        "      print(\"Divisa no encontrada\")\n",
        "      continue\n",
        "    try:\n",
        "      amount = float(input(f\"Cantidad de dinero por convertir ({my_currency.upper()}): \"))\n",
        "    except:\n",
        "      print(\"Cantidad introducida no es valida\")\n",
        "      continue\n",
        "\n",
        "    target_amount = cambio * amount\n",
        "    print(\"Resultado de conversión: {} {}.\".format(round(target_amount, 2), target.upper()))\n",
        "\n"
      ],
      "metadata": {
        "colab": {
          "base_uri": "https://localhost:8080/"
        },
        "id": "DGiENOS1Qbrc",
        "outputId": "5843acdb-c31c-46ef-990a-846b2399c561"
      },
      "execution_count": 6,
      "outputs": [
        {
          "output_type": "stream",
          "name": "stdout",
          "text": [
            "\n",
            " Indique la Divisa destino: MXN\n",
            "Cantidad de dinero por convertir (USD): 350\n",
            "Resultado de conversión: 6444.71 MXN.\n",
            "\n",
            " Indique la Divisa destino: RUB\n",
            "Cantidad de dinero por convertir (USD): 12\n",
            "Resultado de conversión: 977.13 RUB.\n",
            "\n",
            " Indique la Divisa destino: chinese\n",
            "Divisa no encontrada\n",
            "\n",
            " Indique la Divisa destino: \n",
            "¡Adios!\n"
          ]
        }
      ]
    }
  ]
}